{
 "cells": [
  {
   "cell_type": "code",
   "execution_count": 1,
   "id": "cde567a7-83c3-4686-8eda-51d6effc11a4",
   "metadata": {},
   "outputs": [
    {
     "name": "stdout",
     "output_type": "stream",
     "text": [
      "Hidden Layer Input: [0.3825 0.39  ]\n",
      "Hidden Layer  Output: [0.59447593 0.5962827 ]\n",
      "Output Layer Input: [1.13593172 1.19546965]\n",
      "Output Layer Output: [0.75693192 0.76771788]\n",
      "Updated weights (input to hidden): [[0.14977621 0.19971768]\n",
      " [0.24955242 0.29943536]]\n",
      "Updated weights (hidden to output): [[0.35915207 0.4617822 ]\n",
      " [0.45902792 0.56181801]]\n"
     ]
    }
   ],
   "source": [
    "import numpy as np\n",
    "\n",
    "def sigmoid(x):\n",
    "    return 1 / (1 + np.exp(-x))\n",
    "\n",
    "def sigmoid_derivative(x):\n",
    "    return x * (1 - x)\n",
    "\n",
    "inputs = np.array([0.05, 0.10])\n",
    "expected_output = np.array([0.01, 0.99])\n",
    "\n",
    "weights_input_hidden = np.array([[0.15, 0.20], [0.25, 0.30]])\n",
    "weights_hidden_output = np.array([[0.40, 0.45], [0.50, 0.55]])\n",
    "bias_hidden = np.array([0.35, 0.35])\n",
    "bias_output = np.array([0.60, 0.60])\n",
    "\n",
    "# Forward Pass\n",
    "hidden_layer_input = np.dot(inputs, weights_input_hidden) + bias_hidden\n",
    "print(\"Hidden Layer Input:\", hidden_layer_input)\n",
    "\n",
    "hidden_layer_output = sigmoid(hidden_layer_input)\n",
    "print(\"Hidden Layer  Output:\", hidden_layer_output)\n",
    "\n",
    "output_layer_input = np.dot(hidden_layer_output, weights_hidden_output) + bias_output\n",
    "print(\"Output Layer Input:\", output_layer_input)\n",
    "output_layer_output = sigmoid(output_layer_input)\n",
    "print(\"Output Layer Output:\", output_layer_output)\n",
    "# Compute error\n",
    "error = expected_output - output_layer_output\n",
    "\n",
    "# Backward Pass \n",
    "output_layer_delta = error * sigmoid_derivative(output_layer_output)\n",
    "hidden_layer_error = np.dot(output_layer_delta, weights_hidden_output.T)\n",
    "hidden_layer_delta = hidden_layer_error * sigmoid_derivative(hidden_layer_output)\n",
    "\n",
    "\n",
    "learning_rate = 0.5\n",
    "weights_hidden_output += learning_rate * np.outer(hidden_layer_output, output_layer_delta)\n",
    "weights_input_hidden += learning_rate * np.outer(inputs, hidden_layer_delta)\n",
    "\n",
    "\n",
    "# Print updated weights and biases\n",
    "print(\"Updated weights (input to hidden):\", weights_input_hidden)\n",
    "print(\"Updated weights (hidden to output):\", weights_hidden_output)\n"
   ]
  },
  {
   "cell_type": "code",
   "execution_count": null,
   "id": "de0fa44c-0da6-4bf5-b893-5b978f4297f5",
   "metadata": {},
   "outputs": [],
   "source": []
  }
 ],
 "metadata": {
  "kernelspec": {
   "display_name": "Python 3 (ipykernel)",
   "language": "python",
   "name": "python3"
  },
  "language_info": {
   "codemirror_mode": {
    "name": "ipython",
    "version": 3
   },
   "file_extension": ".py",
   "mimetype": "text/x-python",
   "name": "python",
   "nbconvert_exporter": "python",
   "pygments_lexer": "ipython3",
   "version": "3.12.4"
  }
 },
 "nbformat": 4,
 "nbformat_minor": 5
}
