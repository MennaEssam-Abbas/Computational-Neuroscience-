{
 "cells": [
  {
   "cell_type": "code",
   "execution_count": 27,
   "id": "ee76434c-bc88-480b-afc3-882c7e18c35c",
   "metadata": {},
   "outputs": [
    {
     "name": "stdout",
     "output_type": "stream",
     "text": [
      "Output of the network: 0.9503798768518464\n"
     ]
    }
   ],
   "source": [
    "import random\n",
    "import numpy\n",
    "\n",
    "# Input values \n",
    "x1, x2 = 0.6, -0.1\n",
    "\n",
    "# Random weights  [-0.5, 0.5]\n",
    "w1, w2, w3, w4, w5, w6 = [random.uniform(-0.5, 0.5) for _ in range(6)]\n",
    "\n",
    "# Bias values\n",
    "b1, b2 = 0.5, 0.7\n",
    "\n",
    "\n",
    "def tanh_active_function(x):\n",
    "    return (numpy.exp(x)-numpy.exp(-x))/numpy.exp(x)+numpy.exp(-x)\n",
    "\n",
    "\n",
    "def forward_pass(x1, x2, w1, w2, w3, w4, w5, w6, b1, b2):\n",
    "    # First hidden neuron\n",
    "    h1_input = w1 * x1 + w2 * x2 + b1\n",
    "    h1_output = tanh_active_function(h1_input)\n",
    "    \n",
    "    # Second hidden neuron\n",
    "    h2_input = w3 * x1 + w4 * x2 + b1\n",
    "    h2_output = tanh_active_function(h2_input)\n",
    "    \n",
    "    # Output neuron\n",
    "    output_input = w5 * h1_output + w6 * h2_output + b2\n",
    "    output = tanh_active_function(output_input)\n",
    "    \n",
    "    return output\n",
    "\n",
    "# Compute the output\n",
    "y_output = forward_pass(x1, x2, w1, w2, w3, w4, w5, w6, b1, b2)\n",
    "\n",
    "# Print the result\n",
    "print(\"Output of the network:\", y_output)\n"
   ]
  },
  {
   "cell_type": "code",
   "execution_count": null,
   "id": "3f7de482-5055-4a26-98c7-b11a290de498",
   "metadata": {},
   "outputs": [],
   "source": []
  },
  {
   "cell_type": "code",
   "execution_count": null,
   "id": "bb8f7f82-99e9-4f2b-8b4b-aaf995a2c898",
   "metadata": {},
   "outputs": [],
   "source": []
  }
 ],
 "metadata": {
  "kernelspec": {
   "display_name": "Python 3 (ipykernel)",
   "language": "python",
   "name": "python3"
  },
  "language_info": {
   "codemirror_mode": {
    "name": "ipython",
    "version": 3
   },
   "file_extension": ".py",
   "mimetype": "text/x-python",
   "name": "python",
   "nbconvert_exporter": "python",
   "pygments_lexer": "ipython3",
   "version": "3.12.4"
  }
 },
 "nbformat": 4,
 "nbformat_minor": 5
}
